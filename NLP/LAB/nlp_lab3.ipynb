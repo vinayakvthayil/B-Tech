{
  "nbformat": 4,
  "nbformat_minor": 0,
  "metadata": {
    "colab": {
      "provenance": []
    },
    "kernelspec": {
      "name": "python3",
      "display_name": "Python 3"
    },
    "language_info": {
      "name": "python"
    }
  },
  "cells": [
    {
      "cell_type": "markdown",
      "source": [
        "Name: Vinayak V Thayil      \n",
        "Roll No:AM.EN.U4CSE21161"
      ],
      "metadata": {
        "id": "31lO4_OS5kAP"
      }
    },
    {
      "cell_type": "code",
      "execution_count": 55,
      "metadata": {
        "id": "b-x5OQmqBoQQ"
      },
      "outputs": [],
      "source": [
        "import nltk\n",
        "from nltk import word_tokenize, pos_tag, ne_chunk\n",
        "from nltk.corpus import treebank\n",
        "from nltk.tag import hmm"
      ]
    },
    {
      "cell_type": "code",
      "source": [
        "nltk.download('punkt')\n",
        "nltk.download('averaged_perceptron_tagger')\n",
        "nltk.download(\"maxent_ne_chunker\")\n",
        "nltk.download(\"words\")\n",
        "nltk.download(\"treebank\")"
      ],
      "metadata": {
        "colab": {
          "base_uri": "https://localhost:8080/",
          "height": 0
        },
        "id": "v74T-SMiROTt",
        "outputId": "e269602d-cf35-472d-cc97-0487d006e696"
      },
      "execution_count": 56,
      "outputs": [
        {
          "output_type": "stream",
          "name": "stderr",
          "text": [
            "[nltk_data] Downloading package punkt to /root/nltk_data...\n",
            "[nltk_data]   Package punkt is already up-to-date!\n",
            "[nltk_data] Downloading package averaged_perceptron_tagger to\n",
            "[nltk_data]     /root/nltk_data...\n",
            "[nltk_data]   Package averaged_perceptron_tagger is already up-to-\n",
            "[nltk_data]       date!\n",
            "[nltk_data] Downloading package maxent_ne_chunker to\n",
            "[nltk_data]     /root/nltk_data...\n",
            "[nltk_data]   Package maxent_ne_chunker is already up-to-date!\n",
            "[nltk_data] Downloading package words to /root/nltk_data...\n",
            "[nltk_data]   Package words is already up-to-date!\n",
            "[nltk_data] Downloading package treebank to /root/nltk_data...\n",
            "[nltk_data]   Package treebank is already up-to-date!\n"
          ]
        },
        {
          "output_type": "execute_result",
          "data": {
            "text/plain": [
              "True"
            ]
          },
          "metadata": {},
          "execution_count": 56
        }
      ]
    },
    {
      "cell_type": "code",
      "source": [
        "# Step 1: Read a sentence\n",
        "sentence = \"At eight o'clock on Thursday morning Arthur didn't feel very good.\"\n",
        "print(sentence)"
      ],
      "metadata": {
        "colab": {
          "base_uri": "https://localhost:8080/",
          "height": 0
        },
        "id": "aDDQ5C381Duq",
        "outputId": "8a7be3a4-8116-4803-f860-481e611498c9"
      },
      "execution_count": 57,
      "outputs": [
        {
          "output_type": "stream",
          "name": "stdout",
          "text": [
            "At eight o'clock on Thursday morning Arthur didn't feel very good.\n"
          ]
        }
      ]
    },
    {
      "cell_type": "code",
      "source": [
        "# Step 2: Tokenize the sentence\n",
        "tokens = word_tokenize(sentence)\n",
        "print(tokens)"
      ],
      "metadata": {
        "colab": {
          "base_uri": "https://localhost:8080/",
          "height": 0
        },
        "id": "3vlBCza_1HfT",
        "outputId": "5a397f2f-31a5-4a38-80a1-8e7e15e66ea3"
      },
      "execution_count": 58,
      "outputs": [
        {
          "output_type": "stream",
          "name": "stdout",
          "text": [
            "['At', 'eight', \"o'clock\", 'on', 'Thursday', 'morning', 'Arthur', 'did', \"n't\", 'feel', 'very', 'good', '.']\n"
          ]
        }
      ]
    },
    {
      "cell_type": "code",
      "source": [
        "# Step 3: Find bi-grams and tri-grams\n",
        "bi_grams = list(nltk.bigrams(tokens))\n",
        "tri_grams = list(nltk.trigrams(tokens))\n",
        "print(bi_grams)\n",
        "print(tri_grams)"
      ],
      "metadata": {
        "colab": {
          "base_uri": "https://localhost:8080/",
          "height": 0
        },
        "id": "TI3h2CG71Lds",
        "outputId": "c5cc9ad1-0ec9-4f9f-fe1b-c796ab69077f"
      },
      "execution_count": 59,
      "outputs": [
        {
          "output_type": "stream",
          "name": "stdout",
          "text": [
            "[('At', 'eight'), ('eight', \"o'clock\"), (\"o'clock\", 'on'), ('on', 'Thursday'), ('Thursday', 'morning'), ('morning', 'Arthur'), ('Arthur', 'did'), ('did', \"n't\"), (\"n't\", 'feel'), ('feel', 'very'), ('very', 'good'), ('good', '.')]\n",
            "[('At', 'eight', \"o'clock\"), ('eight', \"o'clock\", 'on'), (\"o'clock\", 'on', 'Thursday'), ('on', 'Thursday', 'morning'), ('Thursday', 'morning', 'Arthur'), ('morning', 'Arthur', 'did'), ('Arthur', 'did', \"n't\"), ('did', \"n't\", 'feel'), (\"n't\", 'feel', 'very'), ('feel', 'very', 'good'), ('very', 'good', '.')]\n"
          ]
        }
      ]
    },
    {
      "cell_type": "code",
      "source": [
        "# Step 4: Find POS tags of each token\n",
        "pos_tags = pos_tag(tokens)\n",
        "print(pos_tags)"
      ],
      "metadata": {
        "colab": {
          "base_uri": "https://localhost:8080/",
          "height": 0
        },
        "id": "WeKfgLyd1T44",
        "outputId": "5b9d7dbb-88e8-466e-9a0e-946bb2c925cc"
      },
      "execution_count": 60,
      "outputs": [
        {
          "output_type": "stream",
          "name": "stdout",
          "text": [
            "[('At', 'IN'), ('eight', 'CD'), (\"o'clock\", 'NN'), ('on', 'IN'), ('Thursday', 'NNP'), ('morning', 'NN'), ('Arthur', 'NNP'), ('did', 'VBD'), (\"n't\", 'RB'), ('feel', 'VB'), ('very', 'RB'), ('good', 'JJ'), ('.', '.')]\n"
          ]
        }
      ]
    },
    {
      "cell_type": "code",
      "source": [
        "# Step 5: Identify named entities\n",
        "named_entities = ne_chunk(pos_tags)\n",
        "print(named_entities)"
      ],
      "metadata": {
        "colab": {
          "base_uri": "https://localhost:8080/",
          "height": 0
        },
        "id": "Nzb7URW31ZSo",
        "outputId": "a398820a-c155-4f19-cdbc-f40251249012"
      },
      "execution_count": 61,
      "outputs": [
        {
          "output_type": "stream",
          "name": "stdout",
          "text": [
            "(S\n",
            "  At/IN\n",
            "  eight/CD\n",
            "  o'clock/NN\n",
            "  on/IN\n",
            "  Thursday/NNP\n",
            "  morning/NN\n",
            "  (PERSON Arthur/NNP)\n",
            "  did/VBD\n",
            "  n't/RB\n",
            "  feel/VB\n",
            "  very/RB\n",
            "  good/JJ\n",
            "  ./.)\n"
          ]
        }
      ]
    },
    {
      "cell_type": "code",
      "source": [
        "# Step 6: Print a sentence and corresponding tags from treebank\n",
        "treebank_sentence = treebank.tagged_sents()[0]\n",
        "print(\"Treebank:\", treebank_sentence)"
      ],
      "metadata": {
        "colab": {
          "base_uri": "https://localhost:8080/",
          "height": 0
        },
        "id": "aUdHvCYr1cCL",
        "outputId": "48d0a94d-4ea3-485e-e566-693d41051601"
      },
      "execution_count": 62,
      "outputs": [
        {
          "output_type": "stream",
          "name": "stdout",
          "text": [
            "Treebank: [('Pierre', 'NNP'), ('Vinken', 'NNP'), (',', ','), ('61', 'CD'), ('years', 'NNS'), ('old', 'JJ'), (',', ','), ('will', 'MD'), ('join', 'VB'), ('the', 'DT'), ('board', 'NN'), ('as', 'IN'), ('a', 'DT'), ('nonexecutive', 'JJ'), ('director', 'NN'), ('Nov.', 'NNP'), ('29', 'CD'), ('.', '.')]\n"
          ]
        }
      ]
    },
    {
      "cell_type": "code",
      "source": [
        "# Step 7: Count unique tags in the corpus\n",
        "unique_tags = set(tag for word, tag in treebank.tagged_words())\n",
        "num_unique_tags = len(unique_tags)\n",
        "print(num_unique_tags)"
      ],
      "metadata": {
        "colab": {
          "base_uri": "https://localhost:8080/",
          "height": 0
        },
        "id": "nWjdjdck1d9_",
        "outputId": "3832c754-bb4c-459b-d2aa-c75b57726e43"
      },
      "execution_count": 63,
      "outputs": [
        {
          "output_type": "stream",
          "name": "stdout",
          "text": [
            "46\n"
          ]
        }
      ]
    },
    {
      "cell_type": "code",
      "source": [
        "# Step 8: Find the most commonly occurring tag in the corpus\n",
        "tag_freq_dist = nltk.FreqDist(tag for word, tag in treebank.tagged_words())\n",
        "most_common_tag = tag_freq_dist.most_common(1)[0][0]\n",
        "print(most_common_tag)"
      ],
      "metadata": {
        "colab": {
          "base_uri": "https://localhost:8080/",
          "height": 0
        },
        "id": "ss057YON1fwt",
        "outputId": "a8eedc23-c11b-46e0-dd24-d860cefba0a8"
      },
      "execution_count": 64,
      "outputs": [
        {
          "output_type": "stream",
          "name": "stdout",
          "text": [
            "NN\n"
          ]
        }
      ]
    },
    {
      "cell_type": "code",
      "source": [
        "# Step 9: Find the tag most frequently assigned to the word \"bank\"\n",
        "bank_tags = [tag for word, tag in treebank.tagged_words() if word.lower() == \"bank\"]\n",
        "most_common_bank_tag = nltk.FreqDist(bank_tags).most_common(1)[0][0]\n",
        "print(most_common_bank_tag)"
      ],
      "metadata": {
        "colab": {
          "base_uri": "https://localhost:8080/",
          "height": 0
        },
        "id": "BKFwy0Ow1iFP",
        "outputId": "f36b9a09-9057-4f35-c8fb-44df5bd3dbaa"
      },
      "execution_count": 65,
      "outputs": [
        {
          "output_type": "stream",
          "name": "stdout",
          "text": [
            "NN\n"
          ]
        }
      ]
    },
    {
      "cell_type": "code",
      "source": [
        "# Step 10: Implement an HMM POS tagger in Python\n",
        "train_data = treebank.tagged_sents()[:3000]\n",
        "hmm_tagger = hmm.HiddenMarkovModelTagger.train(train_data)\n",
        "hmm_tagger.tag(tokens)"
      ],
      "metadata": {
        "colab": {
          "base_uri": "https://localhost:8080/",
          "height": 0
        },
        "id": "jybz3ZLM1kMm",
        "outputId": "beaae451-053a-4cb7-f19e-8b4274c99392"
      },
      "execution_count": 66,
      "outputs": [
        {
          "output_type": "execute_result",
          "data": {
            "text/plain": [
              "[('At', 'IN'),\n",
              " ('eight', 'CD'),\n",
              " (\"o'clock\", 'NNS'),\n",
              " ('on', 'IN'),\n",
              " ('Thursday', 'NNP'),\n",
              " ('morning', 'NNP'),\n",
              " ('Arthur', 'NNP'),\n",
              " ('did', 'VBD'),\n",
              " (\"n't\", 'RB'),\n",
              " ('feel', 'VBP'),\n",
              " ('very', 'RB'),\n",
              " ('good', 'JJ'),\n",
              " ('.', '.')]"
            ]
          },
          "metadata": {},
          "execution_count": 66
        }
      ]
    }
  ]
}