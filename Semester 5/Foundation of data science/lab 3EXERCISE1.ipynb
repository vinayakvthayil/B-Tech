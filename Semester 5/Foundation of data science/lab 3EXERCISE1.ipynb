{
  "cells": [
    {
      "cell_type": "markdown",
      "source": [
        "Name: Vinayak V Thayil                                           \n",
        "Roll No:AM.EN.U4CSE21161"
      ],
      "metadata": {
        "id": "ZmqYrQMCIf7N"
      }
    },
    {
      "cell_type": "code",
      "source": [
        "import numpy as np\n",
        "import pandas as pd\n",
        "# Set a random seed for reproducibility\n",
        "np.random.seed(42)\n",
        "# Generate random data for three features: Age, Income, and Score\n",
        "num_samples = 100 # Number of data points\n",
        "age = np.random.randint(18, 65, size=num_samples)\n",
        "income = np.random.normal(50000, 10000, size=num_samples)\n",
        "score = np.random.uniform(0, 100, size=num_samples)\n",
        "# Create a DataFrame to store the data\n",
        "data = pd.DataFrame({\n",
        " 'Age': age,\n",
        " 'Income': income,\n",
        " 'Score': score\n",
        " })\n",
        " # Print the first few rows of the dataset\n",
        "print(data.head())\n"
      ],
      "metadata": {
        "colab": {
          "base_uri": "https://localhost:8080/"
        },
        "id": "WSbLzTqWG8NG",
        "outputId": "95de37e5-be35-415a-d7b7-75c0567fbc73"
      },
      "execution_count": null,
      "outputs": [
        {
          "output_type": "stream",
          "name": "stdout",
          "text": [
            "   Age        Income      Score\n",
            "0   56  56363.051083  17.495493\n",
            "1   46  40932.793314  98.216834\n",
            "2   32  54760.425874  51.663589\n",
            "3   60  63036.612684  26.082917\n",
            "4   25  52115.870123  99.625370\n"
          ]
        }
      ]
    },
    {
      "cell_type": "code",
      "source": [
        "import faker\n",
        "import datetime\n",
        "import random\n",
        "np.random.seed(42)\n",
        "def random_dates(start_date, end_date, n=10):\n",
        "    date_list = [start_date + datetime.timedelta(days=random.randint(0, (end_date - start_date).days)) for _ in range(n)]\n",
        "    return date_list\n",
        "fake = Faker()\n",
        "num_records = 100\n",
        "employee_ids = list(range(1, num_records + 1))\n",
        "employee_names = [fake.name() for _ in range(num_records)]\n",
        "departments = ['Sales', 'Marketing', 'Engineering', 'Finance', 'HR']\n",
        "employee_departments = [random.choice(departments) for _ in range(num_records)]\n",
        "employee_salaries = [random.randint(50000, 100000) if random.random() > 0.2 else np.nan for _ in range(num_records)]\n",
        "start_date = datetime.date(2010, 1, 1)\n",
        "end_date = datetime.date(2023, 1, 1)\n",
        "employee_joining_dates = random_dates(start_date, end_date, num_records)\n",
        "data = {\n",
        "    'Employee ID': employee_ids,\n",
        "    'Employee Name': employee_names,\n",
        "    'Department': employee_departments,\n",
        "    'Salary': employee_salaries,\n",
        "    'Joining Date': employee_joining_dates\n",
        "}\n",
        "employee_df = pd.DataFrame(data)\n",
        "print(employee_df.head())"
      ],
      "metadata": {
        "colab": {
          "base_uri": "https://localhost:8080/"
        },
        "id": "SNJ4ZJuKHbqy",
        "outputId": "d90036ef-4bd5-4e4f-913e-b98d80899b9e"
      },
      "execution_count": null,
      "outputs": [
        {
          "output_type": "stream",
          "name": "stdout",
          "text": [
            "   Employee ID   Employee Name Department   Salary Joining Date\n",
            "0            1  Carlos Bentley  Marketing  82418.0   2022-07-16\n",
            "1            2     Brian Morse  Marketing  82785.0   2017-12-13\n",
            "2            3   James Jimenez      Sales  79352.0   2011-06-15\n",
            "3            4        Amy Moss  Marketing  60858.0   2020-01-02\n",
            "4            5  David Martinez         HR  84281.0   2022-02-28\n"
          ]
        }
      ]
    },
    {
      "cell_type": "code",
      "source": [
        "missing_count = employee_df.isnull().sum()\n",
        "missing_percentage = (missing_count / len(employee_df)) * 100\n",
        "missing_info = pd.DataFrame({\n",
        "    'Missing Count': missing_count,\n",
        "    'Missing Percentage': missing_percentage\n",
        "})\n",
        "print(missing_info)"
      ],
      "metadata": {
        "colab": {
          "base_uri": "https://localhost:8080/"
        },
        "id": "UT8bWsweIKVm",
        "outputId": "1b4c062f-77f2-4a5e-f21c-ea36a55679ab"
      },
      "execution_count": null,
      "outputs": [
        {
          "output_type": "stream",
          "name": "stdout",
          "text": [
            "               Missing Count  Missing Percentage\n",
            "Employee ID                0                 0.0\n",
            "Employee Name              0                 0.0\n",
            "Department                 0                 0.0\n",
            "Salary                    20                20.0\n",
            "Joining Date               0                 0.0\n"
          ]
        }
      ]
    }
  ],
  "metadata": {
    "kernelspec": {
      "display_name": "Python 3",
      "language": "python",
      "name": "python3"
    },
    "language_info": {
      "codemirror_mode": {
        "name": "ipython",
        "version": 3
      },
      "file_extension": ".py",
      "mimetype": "text/x-python",
      "name": "python",
      "nbconvert_exporter": "python",
      "pygments_lexer": "ipython3",
      "version": "3.10.12"
    },
    "colab": {
      "provenance": []
    }
  },
  "nbformat": 4,
  "nbformat_minor": 0
}