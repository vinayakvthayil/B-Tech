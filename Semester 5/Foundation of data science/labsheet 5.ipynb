{
  "cells": [
    {
      "cell_type": "markdown",
      "metadata": {
        "id": "Jfudd4cpdg2h"
      },
      "source": [
        "Name: Vinayak V Thayil\n",
        "\n",
        "Roll No: AM.EN.U4CSE21161"
      ]
    },
    {
      "cell_type": "markdown",
      "metadata": {
        "id": "U1yFdtqpxaNY"
      },
      "source": [
        "## Exercise 1:-  Data standardization and Normalization Practice\n"
      ]
    },
    {
      "cell_type": "markdown",
      "metadata": {
        "id": "VChtl4nGy5XL"
      },
      "source": [
        "### I. min-max normalization"
      ]
    },
    {
      "cell_type": "markdown",
      "metadata": {
        "id": "Bx448LVly84Q"
      },
      "source": [
        "a. Load the dataset"
      ]
    },
    {
      "cell_type": "code",
      "execution_count": null,
      "metadata": {
        "id": "YRwiCWY9cJgt"
      },
      "outputs": [],
      "source": [
        "import numpy as np\n",
        "import matplotlib.pyplot as plt\n",
        "import pandas as pd"
      ]
    },
    {
      "cell_type": "code",
      "execution_count": null,
      "metadata": {
        "colab": {
          "base_uri": "https://localhost:8080/",
          "height": 206
        },
        "id": "4vyULdSVzbeQ",
        "outputId": "01fdd162-6329-441f-f890-dad616f4ef78"
      },
      "outputs": [
        {
          "data": {
            "text/html": [
              "\n",
              "  <div id=\"df-d99fa767-648b-4942-ad2b-77ac12e8b916\" class=\"colab-df-container\">\n",
              "    <div>\n",
              "<style scoped>\n",
              "    .dataframe tbody tr th:only-of-type {\n",
              "        vertical-align: middle;\n",
              "    }\n",
              "\n",
              "    .dataframe tbody tr th {\n",
              "        vertical-align: top;\n",
              "    }\n",
              "\n",
              "    .dataframe thead th {\n",
              "        text-align: right;\n",
              "    }\n",
              "</style>\n",
              "<table border=\"1\" class=\"dataframe\">\n",
              "  <thead>\n",
              "    <tr style=\"text-align: right;\">\n",
              "      <th></th>\n",
              "      <th>5.1</th>\n",
              "      <th>3.5</th>\n",
              "      <th>1.4</th>\n",
              "      <th>0.2</th>\n",
              "      <th>Iris-setosa</th>\n",
              "    </tr>\n",
              "  </thead>\n",
              "  <tbody>\n",
              "    <tr>\n",
              "      <th>0</th>\n",
              "      <td>4.9</td>\n",
              "      <td>3.0</td>\n",
              "      <td>1.4</td>\n",
              "      <td>0.2</td>\n",
              "      <td>Iris-setosa</td>\n",
              "    </tr>\n",
              "    <tr>\n",
              "      <th>1</th>\n",
              "      <td>4.7</td>\n",
              "      <td>3.2</td>\n",
              "      <td>1.3</td>\n",
              "      <td>0.2</td>\n",
              "      <td>Iris-setosa</td>\n",
              "    </tr>\n",
              "    <tr>\n",
              "      <th>2</th>\n",
              "      <td>4.6</td>\n",
              "      <td>3.1</td>\n",
              "      <td>1.5</td>\n",
              "      <td>0.2</td>\n",
              "      <td>Iris-setosa</td>\n",
              "    </tr>\n",
              "    <tr>\n",
              "      <th>3</th>\n",
              "      <td>5.0</td>\n",
              "      <td>3.6</td>\n",
              "      <td>1.4</td>\n",
              "      <td>0.2</td>\n",
              "      <td>Iris-setosa</td>\n",
              "    </tr>\n",
              "    <tr>\n",
              "      <th>4</th>\n",
              "      <td>5.4</td>\n",
              "      <td>3.9</td>\n",
              "      <td>1.7</td>\n",
              "      <td>0.4</td>\n",
              "      <td>Iris-setosa</td>\n",
              "    </tr>\n",
              "  </tbody>\n",
              "</table>\n",
              "</div>\n",
              "    <div class=\"colab-df-buttons\">\n",
              "\n",
              "  <div class=\"colab-df-container\">\n",
              "    <button class=\"colab-df-convert\" onclick=\"convertToInteractive('df-d99fa767-648b-4942-ad2b-77ac12e8b916')\"\n",
              "            title=\"Convert this dataframe to an interactive table.\"\n",
              "            style=\"display:none;\">\n",
              "\n",
              "  <svg xmlns=\"http://www.w3.org/2000/svg\" height=\"24px\" viewBox=\"0 -960 960 960\">\n",
              "    <path d=\"M120-120v-720h720v720H120Zm60-500h600v-160H180v160Zm220 220h160v-160H400v160Zm0 220h160v-160H400v160ZM180-400h160v-160H180v160Zm440 0h160v-160H620v160ZM180-180h160v-160H180v160Zm440 0h160v-160H620v160Z\"/>\n",
              "  </svg>\n",
              "    </button>\n",
              "\n",
              "  <style>\n",
              "    .colab-df-container {\n",
              "      display:flex;\n",
              "      gap: 12px;\n",
              "    }\n",
              "\n",
              "    .colab-df-convert {\n",
              "      background-color: #E8F0FE;\n",
              "      border: none;\n",
              "      border-radius: 50%;\n",
              "      cursor: pointer;\n",
              "      display: none;\n",
              "      fill: #1967D2;\n",
              "      height: 32px;\n",
              "      padding: 0 0 0 0;\n",
              "      width: 32px;\n",
              "    }\n",
              "\n",
              "    .colab-df-convert:hover {\n",
              "      background-color: #E2EBFA;\n",
              "      box-shadow: 0px 1px 2px rgba(60, 64, 67, 0.3), 0px 1px 3px 1px rgba(60, 64, 67, 0.15);\n",
              "      fill: #174EA6;\n",
              "    }\n",
              "\n",
              "    .colab-df-buttons div {\n",
              "      margin-bottom: 4px;\n",
              "    }\n",
              "\n",
              "    [theme=dark] .colab-df-convert {\n",
              "      background-color: #3B4455;\n",
              "      fill: #D2E3FC;\n",
              "    }\n",
              "\n",
              "    [theme=dark] .colab-df-convert:hover {\n",
              "      background-color: #434B5C;\n",
              "      box-shadow: 0px 1px 3px 1px rgba(0, 0, 0, 0.15);\n",
              "      filter: drop-shadow(0px 1px 2px rgba(0, 0, 0, 0.3));\n",
              "      fill: #FFFFFF;\n",
              "    }\n",
              "  </style>\n",
              "\n",
              "    <script>\n",
              "      const buttonEl =\n",
              "        document.querySelector('#df-d99fa767-648b-4942-ad2b-77ac12e8b916 button.colab-df-convert');\n",
              "      buttonEl.style.display =\n",
              "        google.colab.kernel.accessAllowed ? 'block' : 'none';\n",
              "\n",
              "      async function convertToInteractive(key) {\n",
              "        const element = document.querySelector('#df-d99fa767-648b-4942-ad2b-77ac12e8b916');\n",
              "        const dataTable =\n",
              "          await google.colab.kernel.invokeFunction('convertToInteractive',\n",
              "                                                    [key], {});\n",
              "        if (!dataTable) return;\n",
              "\n",
              "        const docLinkHtml = 'Like what you see? Visit the ' +\n",
              "          '<a target=\"_blank\" href=https://colab.research.google.com/notebooks/data_table.ipynb>data table notebook</a>'\n",
              "          + ' to learn more about interactive tables.';\n",
              "        element.innerHTML = '';\n",
              "        dataTable['output_type'] = 'display_data';\n",
              "        await google.colab.output.renderOutput(dataTable, element);\n",
              "        const docLink = document.createElement('div');\n",
              "        docLink.innerHTML = docLinkHtml;\n",
              "        element.appendChild(docLink);\n",
              "      }\n",
              "    </script>\n",
              "  </div>\n",
              "\n",
              "\n",
              "<div id=\"df-e3450203-138f-4bba-a417-deb72c38ccd6\">\n",
              "  <button class=\"colab-df-quickchart\" onclick=\"quickchart('df-e3450203-138f-4bba-a417-deb72c38ccd6')\"\n",
              "            title=\"Suggest charts\"\n",
              "            style=\"display:none;\">\n",
              "\n",
              "<svg xmlns=\"http://www.w3.org/2000/svg\" height=\"24px\"viewBox=\"0 0 24 24\"\n",
              "     width=\"24px\">\n",
              "    <g>\n",
              "        <path d=\"M19 3H5c-1.1 0-2 .9-2 2v14c0 1.1.9 2 2 2h14c1.1 0 2-.9 2-2V5c0-1.1-.9-2-2-2zM9 17H7v-7h2v7zm4 0h-2V7h2v10zm4 0h-2v-4h2v4z\"/>\n",
              "    </g>\n",
              "</svg>\n",
              "  </button>\n",
              "\n",
              "<style>\n",
              "  .colab-df-quickchart {\n",
              "      --bg-color: #E8F0FE;\n",
              "      --fill-color: #1967D2;\n",
              "      --hover-bg-color: #E2EBFA;\n",
              "      --hover-fill-color: #174EA6;\n",
              "      --disabled-fill-color: #AAA;\n",
              "      --disabled-bg-color: #DDD;\n",
              "  }\n",
              "\n",
              "  [theme=dark] .colab-df-quickchart {\n",
              "      --bg-color: #3B4455;\n",
              "      --fill-color: #D2E3FC;\n",
              "      --hover-bg-color: #434B5C;\n",
              "      --hover-fill-color: #FFFFFF;\n",
              "      --disabled-bg-color: #3B4455;\n",
              "      --disabled-fill-color: #666;\n",
              "  }\n",
              "\n",
              "  .colab-df-quickchart {\n",
              "    background-color: var(--bg-color);\n",
              "    border: none;\n",
              "    border-radius: 50%;\n",
              "    cursor: pointer;\n",
              "    display: none;\n",
              "    fill: var(--fill-color);\n",
              "    height: 32px;\n",
              "    padding: 0;\n",
              "    width: 32px;\n",
              "  }\n",
              "\n",
              "  .colab-df-quickchart:hover {\n",
              "    background-color: var(--hover-bg-color);\n",
              "    box-shadow: 0 1px 2px rgba(60, 64, 67, 0.3), 0 1px 3px 1px rgba(60, 64, 67, 0.15);\n",
              "    fill: var(--button-hover-fill-color);\n",
              "  }\n",
              "\n",
              "  .colab-df-quickchart-complete:disabled,\n",
              "  .colab-df-quickchart-complete:disabled:hover {\n",
              "    background-color: var(--disabled-bg-color);\n",
              "    fill: var(--disabled-fill-color);\n",
              "    box-shadow: none;\n",
              "  }\n",
              "\n",
              "  .colab-df-spinner {\n",
              "    border: 2px solid var(--fill-color);\n",
              "    border-color: transparent;\n",
              "    border-bottom-color: var(--fill-color);\n",
              "    animation:\n",
              "      spin 1s steps(1) infinite;\n",
              "  }\n",
              "\n",
              "  @keyframes spin {\n",
              "    0% {\n",
              "      border-color: transparent;\n",
              "      border-bottom-color: var(--fill-color);\n",
              "      border-left-color: var(--fill-color);\n",
              "    }\n",
              "    20% {\n",
              "      border-color: transparent;\n",
              "      border-left-color: var(--fill-color);\n",
              "      border-top-color: var(--fill-color);\n",
              "    }\n",
              "    30% {\n",
              "      border-color: transparent;\n",
              "      border-left-color: var(--fill-color);\n",
              "      border-top-color: var(--fill-color);\n",
              "      border-right-color: var(--fill-color);\n",
              "    }\n",
              "    40% {\n",
              "      border-color: transparent;\n",
              "      border-right-color: var(--fill-color);\n",
              "      border-top-color: var(--fill-color);\n",
              "    }\n",
              "    60% {\n",
              "      border-color: transparent;\n",
              "      border-right-color: var(--fill-color);\n",
              "    }\n",
              "    80% {\n",
              "      border-color: transparent;\n",
              "      border-right-color: var(--fill-color);\n",
              "      border-bottom-color: var(--fill-color);\n",
              "    }\n",
              "    90% {\n",
              "      border-color: transparent;\n",
              "      border-bottom-color: var(--fill-color);\n",
              "    }\n",
              "  }\n",
              "</style>\n",
              "\n",
              "  <script>\n",
              "    async function quickchart(key) {\n",
              "      const quickchartButtonEl =\n",
              "        document.querySelector('#' + key + ' button');\n",
              "      quickchartButtonEl.disabled = true;  // To prevent multiple clicks.\n",
              "      quickchartButtonEl.classList.add('colab-df-spinner');\n",
              "      try {\n",
              "        const charts = await google.colab.kernel.invokeFunction(\n",
              "            'suggestCharts', [key], {});\n",
              "      } catch (error) {\n",
              "        console.error('Error during call to suggestCharts:', error);\n",
              "      }\n",
              "      quickchartButtonEl.classList.remove('colab-df-spinner');\n",
              "      quickchartButtonEl.classList.add('colab-df-quickchart-complete');\n",
              "    }\n",
              "    (() => {\n",
              "      let quickchartButtonEl =\n",
              "        document.querySelector('#df-e3450203-138f-4bba-a417-deb72c38ccd6 button');\n",
              "      quickchartButtonEl.style.display =\n",
              "        google.colab.kernel.accessAllowed ? 'block' : 'none';\n",
              "    })();\n",
              "  </script>\n",
              "</div>\n",
              "    </div>\n",
              "  </div>\n"
            ],
            "text/plain": [
              "   5.1  3.5  1.4  0.2  Iris-setosa\n",
              "0  4.9  3.0  1.4  0.2  Iris-setosa\n",
              "1  4.7  3.2  1.3  0.2  Iris-setosa\n",
              "2  4.6  3.1  1.5  0.2  Iris-setosa\n",
              "3  5.0  3.6  1.4  0.2  Iris-setosa\n",
              "4  5.4  3.9  1.7  0.4  Iris-setosa"
            ]
          },
          "execution_count": 3,
          "metadata": {},
          "output_type": "execute_result"
        }
      ],
      "source": [
        "from sklearn import preprocessing\n",
        "data_set = pd.read_csv('iris.data.csv')\n",
        "data_set.head()\n"
      ]
    },
    {
      "cell_type": "markdown",
      "metadata": {
        "id": "IyZTXx4MzqRk"
      },
      "source": [
        "b.select the features that need to be scaled."
      ]
    },
    {
      "cell_type": "code",
      "execution_count": null,
      "metadata": {
        "colab": {
          "base_uri": "https://localhost:8080/"
        },
        "id": "TZvn1bbSztKU",
        "outputId": "c3d219e7-bd02-4f3f-c15f-af470f34281d"
      },
      "outputs": [
        {
          "name": "stdout",
          "output_type": "stream",
          "text": [
            "Original data values: \n",
            " [[4.9 3.  1.4 0.2]\n",
            " [4.7 3.2 1.3 0.2]\n",
            " [4.6 3.1 1.5 0.2]\n",
            " [5.  3.6 1.4 0.2]\n",
            " [5.4 3.9 1.7 0.4]\n",
            " [4.6 3.4 1.4 0.3]\n",
            " [5.  3.4 1.5 0.2]\n",
            " [4.4 2.9 1.4 0.2]\n",
            " [4.9 3.1 1.5 0.1]\n",
            " [5.4 3.7 1.5 0.2]\n",
            " [4.8 3.4 1.6 0.2]\n",
            " [4.8 3.  1.4 0.1]\n",
            " [4.3 3.  1.1 0.1]\n",
            " [5.8 4.  1.2 0.2]\n",
            " [5.7 4.4 1.5 0.4]\n",
            " [5.4 3.9 1.3 0.4]\n",
            " [5.1 3.5 1.4 0.3]\n",
            " [5.7 3.8 1.7 0.3]\n",
            " [5.1 3.8 1.5 0.3]\n",
            " [5.4 3.4 1.7 0.2]\n",
            " [5.1 3.7 1.5 0.4]\n",
            " [4.6 3.6 1.  0.2]\n",
            " [5.1 3.3 1.7 0.5]\n",
            " [4.8 3.4 1.9 0.2]\n",
            " [5.  3.  1.6 0.2]\n",
            " [5.  3.4 1.6 0.4]\n",
            " [5.2 3.5 1.5 0.2]\n",
            " [5.2 3.4 1.4 0.2]\n",
            " [4.7 3.2 1.6 0.2]\n",
            " [4.8 3.1 1.6 0.2]\n",
            " [5.4 3.4 1.5 0.4]\n",
            " [5.2 4.1 1.5 0.1]\n",
            " [5.5 4.2 1.4 0.2]\n",
            " [4.9 3.1 1.5 0.1]\n",
            " [5.  3.2 1.2 0.2]\n",
            " [5.5 3.5 1.3 0.2]\n",
            " [4.9 3.1 1.5 0.1]\n",
            " [4.4 3.  1.3 0.2]\n",
            " [5.1 3.4 1.5 0.2]\n",
            " [5.  3.5 1.3 0.3]\n",
            " [4.5 2.3 1.3 0.3]\n",
            " [4.4 3.2 1.3 0.2]\n",
            " [5.  3.5 1.6 0.6]\n",
            " [5.1 3.8 1.9 0.4]\n",
            " [4.8 3.  1.4 0.3]\n",
            " [5.1 3.8 1.6 0.2]\n",
            " [4.6 3.2 1.4 0.2]\n",
            " [5.3 3.7 1.5 0.2]\n",
            " [5.  3.3 1.4 0.2]\n",
            " [7.  3.2 4.7 1.4]\n",
            " [6.4 3.2 4.5 1.5]\n",
            " [6.9 3.1 4.9 1.5]\n",
            " [5.5 2.3 4.  1.3]\n",
            " [6.5 2.8 4.6 1.5]\n",
            " [5.7 2.8 4.5 1.3]\n",
            " [6.3 3.3 4.7 1.6]\n",
            " [4.9 2.4 3.3 1. ]\n",
            " [6.6 2.9 4.6 1.3]\n",
            " [5.2 2.7 3.9 1.4]\n",
            " [5.  2.  3.5 1. ]\n",
            " [5.9 3.  4.2 1.5]\n",
            " [6.  2.2 4.  1. ]\n",
            " [6.1 2.9 4.7 1.4]\n",
            " [5.6 2.9 3.6 1.3]\n",
            " [6.7 3.1 4.4 1.4]\n",
            " [5.6 3.  4.5 1.5]\n",
            " [5.8 2.7 4.1 1. ]\n",
            " [6.2 2.2 4.5 1.5]\n",
            " [5.6 2.5 3.9 1.1]\n",
            " [5.9 3.2 4.8 1.8]\n",
            " [6.1 2.8 4.  1.3]\n",
            " [6.3 2.5 4.9 1.5]\n",
            " [6.1 2.8 4.7 1.2]\n",
            " [6.4 2.9 4.3 1.3]\n",
            " [6.6 3.  4.4 1.4]\n",
            " [6.8 2.8 4.8 1.4]\n",
            " [6.7 3.  5.  1.7]\n",
            " [6.  2.9 4.5 1.5]\n",
            " [5.7 2.6 3.5 1. ]\n",
            " [5.5 2.4 3.8 1.1]\n",
            " [5.5 2.4 3.7 1. ]\n",
            " [5.8 2.7 3.9 1.2]\n",
            " [6.  2.7 5.1 1.6]\n",
            " [5.4 3.  4.5 1.5]\n",
            " [6.  3.4 4.5 1.6]\n",
            " [6.7 3.1 4.7 1.5]\n",
            " [6.3 2.3 4.4 1.3]\n",
            " [5.6 3.  4.1 1.3]\n",
            " [5.5 2.5 4.  1.3]\n",
            " [5.5 2.6 4.4 1.2]\n",
            " [6.1 3.  4.6 1.4]\n",
            " [5.8 2.6 4.  1.2]\n",
            " [5.  2.3 3.3 1. ]\n",
            " [5.6 2.7 4.2 1.3]\n",
            " [5.7 3.  4.2 1.2]\n",
            " [5.7 2.9 4.2 1.3]\n",
            " [6.2 2.9 4.3 1.3]\n",
            " [5.1 2.5 3.  1.1]\n",
            " [5.7 2.8 4.1 1.3]\n",
            " [6.3 3.3 6.  2.5]\n",
            " [5.8 2.7 5.1 1.9]\n",
            " [7.1 3.  5.9 2.1]\n",
            " [6.3 2.9 5.6 1.8]\n",
            " [6.5 3.  5.8 2.2]\n",
            " [7.6 3.  6.6 2.1]\n",
            " [4.9 2.5 4.5 1.7]\n",
            " [7.3 2.9 6.3 1.8]\n",
            " [6.7 2.5 5.8 1.8]\n",
            " [7.2 3.6 6.1 2.5]\n",
            " [6.5 3.2 5.1 2. ]\n",
            " [6.4 2.7 5.3 1.9]\n",
            " [6.8 3.  5.5 2.1]\n",
            " [5.7 2.5 5.  2. ]\n",
            " [5.8 2.8 5.1 2.4]\n",
            " [6.4 3.2 5.3 2.3]\n",
            " [6.5 3.  5.5 1.8]\n",
            " [7.7 3.8 6.7 2.2]\n",
            " [7.7 2.6 6.9 2.3]\n",
            " [6.  2.2 5.  1.5]\n",
            " [6.9 3.2 5.7 2.3]\n",
            " [5.6 2.8 4.9 2. ]\n",
            " [7.7 2.8 6.7 2. ]\n",
            " [6.3 2.7 4.9 1.8]\n",
            " [6.7 3.3 5.7 2.1]\n",
            " [7.2 3.2 6.  1.8]\n",
            " [6.2 2.8 4.8 1.8]\n",
            " [6.1 3.  4.9 1.8]\n",
            " [6.4 2.8 5.6 2.1]\n",
            " [7.2 3.  5.8 1.6]\n",
            " [7.4 2.8 6.1 1.9]\n",
            " [7.9 3.8 6.4 2. ]\n",
            " [6.4 2.8 5.6 2.2]\n",
            " [6.3 2.8 5.1 1.5]\n",
            " [6.1 2.6 5.6 1.4]\n",
            " [7.7 3.  6.1 2.3]\n",
            " [6.3 3.4 5.6 2.4]\n",
            " [6.4 3.1 5.5 1.8]\n",
            " [6.  3.  4.8 1.8]\n",
            " [6.9 3.1 5.4 2.1]\n",
            " [6.7 3.1 5.6 2.4]\n",
            " [6.9 3.1 5.1 2.3]\n",
            " [5.8 2.7 5.1 1.9]\n",
            " [6.8 3.2 5.9 2.3]\n",
            " [6.7 3.3 5.7 2.5]\n",
            " [6.7 3.  5.2 2.3]\n",
            " [6.3 2.5 5.  1.9]\n",
            " [6.5 3.  5.2 2. ]\n",
            " [6.2 3.4 5.4 2.3]\n",
            " [5.9 3.  5.1 1.8]]\n"
          ]
        }
      ],
      "source": [
        "x = data_set.iloc[:, 0:4].values\n",
        "print (\"Original data values: \\n\", x)"
      ]
    },
    {
      "cell_type": "markdown",
      "metadata": {
        "id": "jU79t5crzz3X"
      },
      "source": [
        "c. Perform min-max scaling on the selected features."
      ]
    },
    {
      "cell_type": "code",
      "execution_count": null,
      "metadata": {
        "colab": {
          "base_uri": "https://localhost:8080/"
        },
        "id": "hrvhRQisz5rN",
        "outputId": "daa0fdf2-e3f0-4b42-c226-432364667d09"
      },
      "outputs": [
        {
          "name": "stdout",
          "output_type": "stream",
          "text": [
            "After min max Scaling: \n",
            " [[0.16666667 0.41666667 0.06779661 0.04166667]\n",
            " [0.11111111 0.5        0.05084746 0.04166667]\n",
            " [0.08333333 0.45833333 0.08474576 0.04166667]\n",
            " [0.19444444 0.66666667 0.06779661 0.04166667]\n",
            " [0.30555556 0.79166667 0.11864407 0.125     ]\n",
            " [0.08333333 0.58333333 0.06779661 0.08333333]\n",
            " [0.19444444 0.58333333 0.08474576 0.04166667]\n",
            " [0.02777778 0.375      0.06779661 0.04166667]\n",
            " [0.16666667 0.45833333 0.08474576 0.        ]\n",
            " [0.30555556 0.70833333 0.08474576 0.04166667]\n",
            " [0.13888889 0.58333333 0.10169492 0.04166667]\n",
            " [0.13888889 0.41666667 0.06779661 0.        ]\n",
            " [0.         0.41666667 0.01694915 0.        ]\n",
            " [0.41666667 0.83333333 0.03389831 0.04166667]\n",
            " [0.38888889 1.         0.08474576 0.125     ]\n",
            " [0.30555556 0.79166667 0.05084746 0.125     ]\n",
            " [0.22222222 0.625      0.06779661 0.08333333]\n",
            " [0.38888889 0.75       0.11864407 0.08333333]\n",
            " [0.22222222 0.75       0.08474576 0.08333333]\n",
            " [0.30555556 0.58333333 0.11864407 0.04166667]\n",
            " [0.22222222 0.70833333 0.08474576 0.125     ]\n",
            " [0.08333333 0.66666667 0.         0.04166667]\n",
            " [0.22222222 0.54166667 0.11864407 0.16666667]\n",
            " [0.13888889 0.58333333 0.15254237 0.04166667]\n",
            " [0.19444444 0.41666667 0.10169492 0.04166667]\n",
            " [0.19444444 0.58333333 0.10169492 0.125     ]\n",
            " [0.25       0.625      0.08474576 0.04166667]\n",
            " [0.25       0.58333333 0.06779661 0.04166667]\n",
            " [0.11111111 0.5        0.10169492 0.04166667]\n",
            " [0.13888889 0.45833333 0.10169492 0.04166667]\n",
            " [0.30555556 0.58333333 0.08474576 0.125     ]\n",
            " [0.25       0.875      0.08474576 0.        ]\n",
            " [0.33333333 0.91666667 0.06779661 0.04166667]\n",
            " [0.16666667 0.45833333 0.08474576 0.        ]\n",
            " [0.19444444 0.5        0.03389831 0.04166667]\n",
            " [0.33333333 0.625      0.05084746 0.04166667]\n",
            " [0.16666667 0.45833333 0.08474576 0.        ]\n",
            " [0.02777778 0.41666667 0.05084746 0.04166667]\n",
            " [0.22222222 0.58333333 0.08474576 0.04166667]\n",
            " [0.19444444 0.625      0.05084746 0.08333333]\n",
            " [0.05555556 0.125      0.05084746 0.08333333]\n",
            " [0.02777778 0.5        0.05084746 0.04166667]\n",
            " [0.19444444 0.625      0.10169492 0.20833333]\n",
            " [0.22222222 0.75       0.15254237 0.125     ]\n",
            " [0.13888889 0.41666667 0.06779661 0.08333333]\n",
            " [0.22222222 0.75       0.10169492 0.04166667]\n",
            " [0.08333333 0.5        0.06779661 0.04166667]\n",
            " [0.27777778 0.70833333 0.08474576 0.04166667]\n",
            " [0.19444444 0.54166667 0.06779661 0.04166667]\n",
            " [0.75       0.5        0.62711864 0.54166667]\n",
            " [0.58333333 0.5        0.59322034 0.58333333]\n",
            " [0.72222222 0.45833333 0.66101695 0.58333333]\n",
            " [0.33333333 0.125      0.50847458 0.5       ]\n",
            " [0.61111111 0.33333333 0.61016949 0.58333333]\n",
            " [0.38888889 0.33333333 0.59322034 0.5       ]\n",
            " [0.55555556 0.54166667 0.62711864 0.625     ]\n",
            " [0.16666667 0.16666667 0.38983051 0.375     ]\n",
            " [0.63888889 0.375      0.61016949 0.5       ]\n",
            " [0.25       0.29166667 0.49152542 0.54166667]\n",
            " [0.19444444 0.         0.42372881 0.375     ]\n",
            " [0.44444444 0.41666667 0.54237288 0.58333333]\n",
            " [0.47222222 0.08333333 0.50847458 0.375     ]\n",
            " [0.5        0.375      0.62711864 0.54166667]\n",
            " [0.36111111 0.375      0.44067797 0.5       ]\n",
            " [0.66666667 0.45833333 0.57627119 0.54166667]\n",
            " [0.36111111 0.41666667 0.59322034 0.58333333]\n",
            " [0.41666667 0.29166667 0.52542373 0.375     ]\n",
            " [0.52777778 0.08333333 0.59322034 0.58333333]\n",
            " [0.36111111 0.20833333 0.49152542 0.41666667]\n",
            " [0.44444444 0.5        0.6440678  0.70833333]\n",
            " [0.5        0.33333333 0.50847458 0.5       ]\n",
            " [0.55555556 0.20833333 0.66101695 0.58333333]\n",
            " [0.5        0.33333333 0.62711864 0.45833333]\n",
            " [0.58333333 0.375      0.55932203 0.5       ]\n",
            " [0.63888889 0.41666667 0.57627119 0.54166667]\n",
            " [0.69444444 0.33333333 0.6440678  0.54166667]\n",
            " [0.66666667 0.41666667 0.6779661  0.66666667]\n",
            " [0.47222222 0.375      0.59322034 0.58333333]\n",
            " [0.38888889 0.25       0.42372881 0.375     ]\n",
            " [0.33333333 0.16666667 0.47457627 0.41666667]\n",
            " [0.33333333 0.16666667 0.45762712 0.375     ]\n",
            " [0.41666667 0.29166667 0.49152542 0.45833333]\n",
            " [0.47222222 0.29166667 0.69491525 0.625     ]\n",
            " [0.30555556 0.41666667 0.59322034 0.58333333]\n",
            " [0.47222222 0.58333333 0.59322034 0.625     ]\n",
            " [0.66666667 0.45833333 0.62711864 0.58333333]\n",
            " [0.55555556 0.125      0.57627119 0.5       ]\n",
            " [0.36111111 0.41666667 0.52542373 0.5       ]\n",
            " [0.33333333 0.20833333 0.50847458 0.5       ]\n",
            " [0.33333333 0.25       0.57627119 0.45833333]\n",
            " [0.5        0.41666667 0.61016949 0.54166667]\n",
            " [0.41666667 0.25       0.50847458 0.45833333]\n",
            " [0.19444444 0.125      0.38983051 0.375     ]\n",
            " [0.36111111 0.29166667 0.54237288 0.5       ]\n",
            " [0.38888889 0.41666667 0.54237288 0.45833333]\n",
            " [0.38888889 0.375      0.54237288 0.5       ]\n",
            " [0.52777778 0.375      0.55932203 0.5       ]\n",
            " [0.22222222 0.20833333 0.33898305 0.41666667]\n",
            " [0.38888889 0.33333333 0.52542373 0.5       ]\n",
            " [0.55555556 0.54166667 0.84745763 1.        ]\n",
            " [0.41666667 0.29166667 0.69491525 0.75      ]\n",
            " [0.77777778 0.41666667 0.83050847 0.83333333]\n",
            " [0.55555556 0.375      0.77966102 0.70833333]\n",
            " [0.61111111 0.41666667 0.81355932 0.875     ]\n",
            " [0.91666667 0.41666667 0.94915254 0.83333333]\n",
            " [0.16666667 0.20833333 0.59322034 0.66666667]\n",
            " [0.83333333 0.375      0.89830508 0.70833333]\n",
            " [0.66666667 0.20833333 0.81355932 0.70833333]\n",
            " [0.80555556 0.66666667 0.86440678 1.        ]\n",
            " [0.61111111 0.5        0.69491525 0.79166667]\n",
            " [0.58333333 0.29166667 0.72881356 0.75      ]\n",
            " [0.69444444 0.41666667 0.76271186 0.83333333]\n",
            " [0.38888889 0.20833333 0.6779661  0.79166667]\n",
            " [0.41666667 0.33333333 0.69491525 0.95833333]\n",
            " [0.58333333 0.5        0.72881356 0.91666667]\n",
            " [0.61111111 0.41666667 0.76271186 0.70833333]\n",
            " [0.94444444 0.75       0.96610169 0.875     ]\n",
            " [0.94444444 0.25       1.         0.91666667]\n",
            " [0.47222222 0.08333333 0.6779661  0.58333333]\n",
            " [0.72222222 0.5        0.79661017 0.91666667]\n",
            " [0.36111111 0.33333333 0.66101695 0.79166667]\n",
            " [0.94444444 0.33333333 0.96610169 0.79166667]\n",
            " [0.55555556 0.29166667 0.66101695 0.70833333]\n",
            " [0.66666667 0.54166667 0.79661017 0.83333333]\n",
            " [0.80555556 0.5        0.84745763 0.70833333]\n",
            " [0.52777778 0.33333333 0.6440678  0.70833333]\n",
            " [0.5        0.41666667 0.66101695 0.70833333]\n",
            " [0.58333333 0.33333333 0.77966102 0.83333333]\n",
            " [0.80555556 0.41666667 0.81355932 0.625     ]\n",
            " [0.86111111 0.33333333 0.86440678 0.75      ]\n",
            " [1.         0.75       0.91525424 0.79166667]\n",
            " [0.58333333 0.33333333 0.77966102 0.875     ]\n",
            " [0.55555556 0.33333333 0.69491525 0.58333333]\n",
            " [0.5        0.25       0.77966102 0.54166667]\n",
            " [0.94444444 0.41666667 0.86440678 0.91666667]\n",
            " [0.55555556 0.58333333 0.77966102 0.95833333]\n",
            " [0.58333333 0.45833333 0.76271186 0.70833333]\n",
            " [0.47222222 0.41666667 0.6440678  0.70833333]\n",
            " [0.72222222 0.45833333 0.74576271 0.83333333]\n",
            " [0.66666667 0.45833333 0.77966102 0.95833333]\n",
            " [0.72222222 0.45833333 0.69491525 0.91666667]\n",
            " [0.41666667 0.29166667 0.69491525 0.75      ]\n",
            " [0.69444444 0.5        0.83050847 0.91666667]\n",
            " [0.66666667 0.54166667 0.79661017 1.        ]\n",
            " [0.66666667 0.41666667 0.71186441 0.91666667]\n",
            " [0.55555556 0.20833333 0.6779661  0.75      ]\n",
            " [0.61111111 0.41666667 0.71186441 0.79166667]\n",
            " [0.52777778 0.58333333 0.74576271 0.91666667]\n",
            " [0.44444444 0.41666667 0.69491525 0.70833333]]\n"
          ]
        }
      ],
      "source": [
        "from sklearn import preprocessing\n",
        "min_max_scaler = preprocessing.MinMaxScaler(feature_range =(0, 1))\n",
        "# Scaled feature\n",
        "scaled_x= min_max_scaler.fit_transform(x)\n",
        "print (\"After min max Scaling: \\n\", scaled_x)"
      ]
    },
    {
      "cell_type": "markdown",
      "metadata": {
        "id": "dEyp2T9K3Bka"
      },
      "source": [
        "II. Z-score normalization"
      ]
    },
    {
      "cell_type": "code",
      "execution_count": null,
      "metadata": {
        "colab": {
          "base_uri": "https://localhost:8080/"
        },
        "id": "RB79dh0c3ER3",
        "outputId": "49af0be0-c969-4cfb-9a70-51198e17475c"
      },
      "outputs": [
        {
          "name": "stdout",
          "output_type": "stream",
          "text": [
            "Original Iris dataset:\n",
            "   sepal length (cm)  sepal width (cm)  petal length (cm)  petal width (cm)\n",
            "0                5.1               3.5                1.4               0.2\n",
            "1                4.9               3.0                1.4               0.2\n",
            "2                4.7               3.2                1.3               0.2\n",
            "3                4.6               3.1                1.5               0.2\n",
            "4                5.0               3.6                1.4               0.2\n",
            "\n",
            "Z-score Normalized Iris dataset:\n",
            "   sepal length (cm)  sepal width (cm)  petal length (cm)  petal width (cm)\n",
            "0          -0.900681          1.019004          -1.340227         -1.315444\n",
            "1          -1.143017         -0.131979          -1.340227         -1.315444\n",
            "2          -1.385353          0.328414          -1.397064         -1.315444\n",
            "3          -1.506521          0.098217          -1.283389         -1.315444\n",
            "4          -1.021849          1.249201          -1.340227         -1.315444\n"
          ]
        }
      ],
      "source": [
        "from sklearn.datasets import load_iris\n",
        "from sklearn.preprocessing import StandardScaler\n",
        "import pandas as pd\n",
        "# Load Iris dataset\n",
        "iris = load_iris()\n",
        "iris_df = pd.DataFrame(data=iris.data, columns=iris.feature_names)\n",
        "\n",
        "# Display the original dataset\n",
        "print(\"Original Iris dataset:\")\n",
        "print(iris_df.head())\n",
        "\n",
        "# Initialize StandardScaler for Z-score normalization\n",
        "scaler = StandardScaler()\n",
        "\n",
        "# Z-score normalize the dataset\n",
        "normalized_data = scaler.fit_transform(iris_df)\n",
        "\n",
        "# Convert the normalized data back to a DataFrame\n",
        "normalized_df = pd.DataFrame(normalized_data, columns=iris.feature_names)\n",
        "\n",
        "# Display the normalized dataset\n",
        "print(\"\\nZ-score Normalized Iris dataset:\")\n",
        "print(normalized_df.head())"
      ]
    },
    {
      "cell_type": "markdown",
      "metadata": {
        "id": "yBPhRAxl3ZyP"
      },
      "source": [
        "## Exercise 2 Data standardization and Normalization Questions"
      ]
    },
    {
      "cell_type": "markdown",
      "metadata": {
        "id": "TevZ6LAY3iV3"
      },
      "source": [
        "Load wine quality dataset and do the following\n",
        "a. Min max scaling\n"
      ]
    },
    {
      "cell_type": "code",
      "execution_count": null,
      "metadata": {
        "id": "6HVbRxp35bsR"
      },
      "outputs": [],
      "source": [
        "import pandas as pd\n",
        "from sklearn.preprocessing import MinMaxScaler, StandardScaler, RobustScaler\n",
        "import numpy as np\n",
        "import matplotlib.pyplot as plt"
      ]
    },
    {
      "cell_type": "code",
      "execution_count": null,
      "metadata": {
        "id": "c5KHxkOS5iRZ"
      },
      "outputs": [],
      "source": [
        "data_set = pd.read_csv('WineQT.csv')"
      ]
    },
    {
      "cell_type": "code",
      "execution_count": null,
      "metadata": {
        "id": "s41RdzFg5mEW"
      },
      "outputs": [],
      "source": [
        "data_set = data_set.drop(columns=['Id'])"
      ]
    },
    {
      "cell_type": "code",
      "execution_count": null,
      "metadata": {
        "colab": {
          "base_uri": "https://localhost:8080/",
          "height": 626
        },
        "id": "aJpsfHDM5y01",
        "outputId": "609849e2-084d-4920-d1f0-fb7b0ba0e2dd"
      },
      "outputs": [
        {
          "name": "stderr",
          "output_type": "stream",
          "text": [
            "<ipython-input-13-a25cf3dd3a99>:23: UserWarning: To output multiple subplots, the figure containing the passed axes is being cleared.\n",
            "  data_set.hist(ax=axs[0,0])\n",
            "<ipython-input-13-a25cf3dd3a99>:27: UserWarning: To output multiple subplots, the figure containing the passed axes is being cleared.\n",
            "  df_min_max.hist(ax=axs[0,1])\n",
            "<ipython-input-13-a25cf3dd3a99>:31: UserWarning: To output multiple subplots, the figure containing the passed axes is being cleared.\n",
            "  df_standard.hist(ax=axs[1,0])\n",
            "<ipython-input-13-a25cf3dd3a99>:35: UserWarning: To output multiple subplots, the figure containing the passed axes is being cleared.\n",
            "  df_log1p.hist(ax=axs[1,1])\n"
          ]
        },
        {
          "data": {
            "image/png": "[encoded data removed]",
            "text/plain": [
              "<Figure size 640x480 with 12 Axes>"
            ]
          },
          "metadata": {},
          "output_type": "display_data"
        }
      ],
      "source": [
        "# a. Min-max scaling\n",
        "min_max_scaler = MinMaxScaler()\n",
        "data_min_max = min_max_scaler.fit_transform(data_set)\n",
        "df_min_max = pd.DataFrame(data_min_max, columns=data_set.columns)\n",
        "\n",
        "# b. Z-score normalization\n",
        "standard_scaler = StandardScaler()\n",
        "data_standard = standard_scaler.fit_transform(data_set)\n",
        "df_standard = pd.DataFrame(data_standard, columns=data_set.columns)\n",
        "\n",
        "# c. Robust scaling\n",
        "robust_scaler = RobustScaler()\n",
        "data_robust = robust_scaler.fit_transform(data_set)\n",
        "df_robust = pd.DataFrame(data_robust, columns=data_set.columns)\n",
        "\n",
        "# d. Log1p transformation\n",
        "df_log1p = data_set.apply(np.log1p)\n",
        "\n",
        "# e. Histogram plots\n",
        "fig, axs = plt.subplots(2, 2)\n",
        "\n",
        "# Original data\n",
        "data_set.hist(ax=axs[0,0])\n",
        "axs[0,0].set_title('Original Data')\n",
        "\n",
        "# After min-max scaling\n",
        "df_min_max.hist(ax=axs[0,1])\n",
        "axs[0,1].set_title('After Min-Max Scaling')\n",
        "\n",
        "# After Z-score normalization\n",
        "df_standard.hist(ax=axs[1,0])\n",
        "axs[1,0].set_title('After Z-Score Normalization')\n",
        "\n",
        "# After log1p transformation\n",
        "df_log1p.hist(ax=axs[1,1])\n",
        "axs[1,1].set_title('After Log1p Transformation')\n",
        "\n",
        "plt.tight_layout()\n",
        "plt.show()"
      ]
    },
    {
      "cell_type": "markdown",
      "metadata": {
        "id": "EVLnkPD86e62"
      },
      "source": [
        "## Exercise 5 Synthetic dataset generation practice\n"
      ]
    },
    {
      "cell_type": "markdown",
      "metadata": {
        "id": "wtzixSQI6moQ"
      },
      "source": [
        "a. Use Faker package"
      ]
    },
    {
      "cell_type": "code",
      "execution_count": null,
      "metadata": {
        "colab": {
          "base_uri": "https://localhost:8080/"
        },
        "id": "_AEO5Os-7bET",
        "outputId": "635bb6b7-f69f-476a-faca-cf3e0863144f"
      },
      "outputs": [
        {
          "name": "stdout",
          "output_type": "stream",
          "text": [
            "Collecting faker\n",
            "  Downloading Faker-20.1.0-py3-none-any.whl (1.7 MB)\n",
            "\u001b[2K     \u001b[90m━━━━━━━━━━━━━━━━━━━━━━━━━━━━━━━━━━━━━━━━\u001b[0m \u001b[32m1.7/1.7 MB\u001b[0m \u001b[31m20.2 MB/s\u001b[0m eta \u001b[36m0:00:00\u001b[0m\n",
            "\u001b[?25hRequirement already satisfied: python-dateutil>=2.4 in /usr/local/lib/python3.10/dist-packages (from faker) (2.8.2)\n",
            "Requirement already satisfied: six>=1.5 in /usr/local/lib/python3.10/dist-packages (from python-dateutil>=2.4->faker) (1.16.0)\n",
            "Installing collected packages: faker\n",
            "Successfully installed faker-20.1.0\n"
          ]
        }
      ],
      "source": [
        "!pip install faker"
      ]
    },
    {
      "cell_type": "code",
      "execution_count": null,
      "metadata": {
        "colab": {
          "base_uri": "https://localhost:8080/"
        },
        "id": "aHiQCubz6eqk",
        "outputId": "ee899ed4-432b-4abc-da6c-d9f3680bbf31"
      },
      "outputs": [
        {
          "name": "stdout",
          "output_type": "stream",
          "text": [
            "                   Name                      Email  \\\n",
            "0  Christopher Matthews  cherryheather@example.com   \n",
            "1           Dana Snyder         erin51@example.com   \n",
            "2          Mindy Miller    perrytravis@example.org   \n",
            "3    Jessica Mendoza MD    emmagriffin@example.net   \n",
            "4     Christina Woodard       daniel91@example.com   \n",
            "\n",
            "                                             Address            Phone Number  \\\n",
            "0  80015 Mallory Stream Suite 278, Wongberg, RI 4...   +1-232-821-9498x97321   \n",
            "1       3584 Donald Crest, East Jackiefurt, OK 82842  001-880-843-7878x35149   \n",
            "2          12225 Reilly Common, Ronaldfort, OR 89085            537.485.8187   \n",
            "3  486 Perry Motorway Apt. 922, Fletcherbury, AR ...     (316)287-8072x92979   \n",
            "4        9653 Bailey Mall, West Brookebury, FL 78799       (753)628-5279x859   \n",
            "\n",
            "  Date of Birth  \n",
            "0    1946-02-12  \n",
            "1    1959-06-24  \n",
            "2    1992-05-17  \n",
            "3    1956-12-12  \n",
            "4    2004-08-16  \n"
          ]
        }
      ],
      "source": [
        "from faker import Faker\n",
        "import pandas as pd\n",
        "fake = Faker()\n",
        "# Generating synthetic user data\n",
        "num_users = 100\n",
        "data = {\n",
        " 'Name': [fake.name() for _ in range(num_users)],\n",
        " 'Email': [fake.email() for _ in range(num_users)],\n",
        " 'Address': [fake.address().replace('\\n', ', ') for _ in range(num_users)],\n",
        " 'Phone Number': [fake.phone_number() for _ in range(num_users)],\n",
        " 'Date of Birth': [fake.date_of_birth(minimum_age=18, maximum_age=90) for _ in\n",
        "range(num_users)]\n",
        "}\n",
        "# Creating a Pandas DataFrame\n",
        "df = pd.DataFrame(data)\n",
        "# Displaying the synthetic data\n",
        "print(df.head())\n"
      ]
    },
    {
      "cell_type": "code",
      "execution_count": null,
      "metadata": {
        "colab": {
          "base_uri": "https://localhost:8080/"
        },
        "id": "loVJH1xQ8j6G",
        "outputId": "705aed9f-6046-48cb-944f-6761d63734fc"
      },
      "outputs": [
        {
          "name": "stdout",
          "output_type": "stream",
          "text": [
            "Collecting pydbgen\n",
            "  Downloading pydbgen-1.0.5-py3-none-any.whl (81 kB)\n",
            "\u001b[2K     \u001b[90m━━━━━━━━━━━━━━━━━━━━━━━━━━━━━━━━━━━━━━━━\u001b[0m \u001b[32m81.3/81.3 kB\u001b[0m \u001b[31m3.7 MB/s\u001b[0m eta \u001b[36m0:00:00\u001b[0m\n",
            "\u001b[?25hRequirement already satisfied: Faker in /usr/local/lib/python3.10/dist-packages (from pydbgen) (20.1.0)\n",
            "Requirement already satisfied: Pandas in /usr/local/lib/python3.10/dist-packages (from pydbgen) (1.5.3)\n",
            "Requirement already satisfied: six in /usr/local/lib/python3.10/dist-packages (from pydbgen) (1.16.0)\n",
            "Requirement already satisfied: python-dateutil>=2.4 in /usr/local/lib/python3.10/dist-packages (from Faker->pydbgen) (2.8.2)\n",
            "Requirement already satisfied: pytz>=2020.1 in /usr/local/lib/python3.10/dist-packages (from Pandas->pydbgen) (2023.3.post1)\n",
            "Requirement already satisfied: numpy>=1.21.0 in /usr/local/lib/python3.10/dist-packages (from Pandas->pydbgen) (1.23.5)\n",
            "Installing collected packages: pydbgen\n",
            "Successfully installed pydbgen-1.0.5\n"
          ]
        }
      ],
      "source": [
        "!pip install pydbgen"
      ]
    },
    {
      "cell_type": "markdown",
      "metadata": {
        "id": "G7OGEHyK7D4s"
      },
      "source": [
        "c. Use Mimesis"
      ]
    },
    {
      "cell_type": "code",
      "execution_count": null,
      "metadata": {
        "id": "W6fROjcT7m3Q"
      },
      "outputs": [],
      "source": [
        "!pip install mimesis\n"
      ]
    },
    {
      "cell_type": "code",
      "execution_count": null,
      "metadata": {
        "colab": {
          "base_uri": "https://localhost:8080/"
        },
        "id": "6P69cyVE7EpO",
        "outputId": "9de3e7d7-5554-4825-d7fd-703cb348edcd"
      },
      "outputs": [
        {
          "name": "stdout",
          "output_type": "stream",
          "text": [
            "Claude Harrison\n",
            "walk2084@test.com\n",
            "55\n",
            "Female\n"
          ]
        }
      ],
      "source": [
        "from mimesis import Person\n",
        "#Generating Fake Person Data:\n",
        "person = Person()\n",
        "print(person.full_name())\n",
        "print(person.email(domains=['example.com', 'test.com']))\n",
        "print(person.age())\n",
        "print(person.gender())\n"
      ]
    },
    {
      "cell_type": "markdown",
      "metadata": {
        "id": "SKd2LkMf9_7I"
      },
      "source": [
        "## Exercise 6 Synthetic dataset generation questions"
      ]
    },
    {
      "cell_type": "markdown",
      "metadata": {
        "id": "vV-4uqXm-BDc"
      },
      "source": [
        "a. Generate a data set with the following information"
      ]
    },
    {
      "cell_type": "code",
      "execution_count": null,
      "metadata": {
        "colab": {
          "base_uri": "https://localhost:8080/"
        },
        "id": "uUs2gEMk-Ies",
        "outputId": "a05be74c-ac5b-4d98-ca4b-e8a63c515d44"
      },
      "outputs": [
        {
          "name": "stdout",
          "output_type": "stream",
          "text": [
            "   Course ID                                  Course Name       Instructor  \\\n",
            "0      78893                  Organic systemic monitoring    Mark Martinez   \n",
            "1      34045         Persistent human-resource monitoring  Christina Yates   \n",
            "2      88641              Multi-lateral background policy   Thomas Raymond   \n",
            "3      97221      User-friendly homogeneous orchestration    Carrie Pineda   \n",
            "4      46270  Function-based bandwidth-monitored firmware    Edward Taylor   \n",
            "\n",
            "                             Category  Course Duration (hours)  \\\n",
            "0                    Ambulance person                       34   \n",
            "1                       Media planner                       60   \n",
            "2           Higher education lecturer                       82   \n",
            "3  Surveyor, planning and development                       53   \n",
            "4                Operations geologist                       20   \n",
            "\n",
            "   Students Enrolled       Price  Student CGPA  Student Marks (out of 100)  \n",
            "0                775  254.371973      0.485996                           8  \n",
            "1                913  238.185719      1.926230                          88  \n",
            "2                387  194.429318      3.955903                          55  \n",
            "3                413  211.844766      1.631748                          77  \n",
            "4                699  267.840954      0.205056                          27  \n"
          ]
        }
      ],
      "source": [
        "from faker import Faker\n",
        "import pandas as pd\n",
        "import numpy as np\n",
        "\n",
        "fake = Faker()\n",
        "\n",
        "# Number of courses\n",
        "num_courses = 100\n",
        "\n",
        "# Generate synthetic course data\n",
        "data = {\n",
        " 'Course ID': [fake.unique.random_number(digits=5) for _ in range(num_courses)],\n",
        " 'Course Name': [fake.catch_phrase() for _ in range(num_courses)],\n",
        " 'Instructor': [fake.name() for _ in range(num_courses)],\n",
        " 'Category': [fake.job() for _ in range(num_courses)],\n",
        " 'Course Duration (hours)': np.random.randint(1, 100, num_courses).tolist(),\n",
        " 'Students Enrolled': np.random.randint(1, 1000, num_courses).tolist(),\n",
        " 'Price': np.random.uniform(50, 500, num_courses).tolist(),\n",
        " 'Student CGPA': np.random.uniform(0, 4, num_courses).tolist(),\n",
        " 'Student Marks (out of 100)': np.random.randint(0, 100, num_courses).tolist()\n",
        "}\n",
        "\n",
        "# Creating a Pandas DataFrame\n",
        "df = pd.DataFrame(data)\n",
        "print(df.head())"
      ]
    },
    {
      "cell_type": "markdown",
      "metadata": {
        "id": "taKE3980-VBe"
      },
      "source": [
        "b. Generate data frame with the following information"
      ]
    },
    {
      "cell_type": "code",
      "execution_count": null,
      "metadata": {
        "colab": {
          "base_uri": "https://localhost:8080/"
        },
        "id": "ChzPIP-uY7GP",
        "outputId": "4f950099-8b54-4272-8087-756228a2cfd2"
      },
      "outputs": [
        {
          "name": "stdout",
          "output_type": "stream",
          "text": [
            "   Property ID Property Type   Price  Area  Number of Bedrooms  \\\n",
            "0        33860     Apartment  359083   622                   4   \n",
            "1        62119     Apartment  458342  2840                   2   \n",
            "2        30245     Apartment  119937  3173                   3   \n",
            "3        41573         House  464197   731                   1   \n",
            "4        89592         Condo  194867  2298                   2   \n",
            "\n",
            "   Number of Bathrooms  Agent ID        Owner Name Date Listed  \n",
            "0                    1     59230    Michael Wright  2020-01-01  \n",
            "1                    1     76135    Richard Parker  2020-01-02  \n",
            "2                    1     20182     Hannah Hanson  2020-01-03  \n",
            "3                    3     77133  Timothy Sullivan  2020-01-04  \n",
            "4                    1      8715     William Roman  2020-01-05  \n"
          ]
        }
      ],
      "source": [
        "from faker import Faker\n",
        "import pandas as pd\n",
        "import numpy as np\n",
        "\n",
        "fake = Faker()\n",
        "\n",
        "# Number of properties\n",
        "num_properties = 100\n",
        "\n",
        "# Generate synthetic property data\n",
        "data = {\n",
        " 'Property ID': [fake.unique.random_number(digits=5) for _ in range(num_properties)],\n",
        " 'Property Type': [fake.random_element(elements=('House', 'Apartment', 'Condo')) for _ in range(num_properties)],\n",
        " 'Price': np.random.randint(50000, 500000, num_properties).tolist(),\n",
        " 'Area': np.random.randint(500, 5000, num_properties).tolist(),\n",
        " 'Number of Bedrooms': np.random.randint(1, 5, num_properties).tolist(),\n",
        " 'Number of Bathrooms': np.random.randint(1, 4, num_properties).tolist(),\n",
        " 'Agent ID': [fake.unique.random_number(digits=5) for _ in range(num_properties)],\n",
        " 'Owner Name': [fake.name() for _ in range(num_properties)],\n",
        " 'Date Listed': pd.date_range(start='1/1/2020', periods=num_properties).tolist()\n",
        "}\n",
        "\n",
        "# Creating a Pandas DataFrame\n",
        "df = pd.DataFrame(data)\n",
        "print(df.head())\n"
      ]
    },
    {
      "cell_type": "markdown",
      "metadata": {
        "id": "NfDB78nQZbSc"
      },
      "source": [
        "c. Generate a time series dat"
      ]
    },
    {
      "cell_type": "code",
      "execution_count": null,
      "metadata": {
        "colab": {
          "base_uri": "https://localhost:8080/"
        },
        "id": "ywZEud6gZcNY",
        "outputId": "9f1c8d8d-e49d-40c3-d99c-6e2f48be9d0f"
      },
      "outputs": [
        {
          "name": "stdout",
          "output_type": "stream",
          "text": [
            "2020-01-01 00:00:00   -0.872932\n",
            "2020-01-01 01:00:00    0.835678\n",
            "2020-01-01 02:00:00    0.796763\n",
            "2020-01-01 03:00:00    1.351274\n",
            "2020-01-01 04:00:00    0.278531\n",
            "Freq: H, dtype: float64\n"
          ]
        }
      ],
      "source": [
        "import pandas as pd\n",
        "import numpy as np\n",
        "\n",
        "\n",
        "date_rng = pd.date_range(start='1/1/2020', end='1/10/2020', freq='H')\n",
        "random_data = np.random.randn(len(date_rng))\n",
        "ts = pd.Series(random_data, index=date_rng)\n",
        "print(ts.head())\n"
      ]
    }
  ],
  "metadata": {
    "colab": {
      "provenance": []
    },
    "kernelspec": {
      "display_name": "Python 3 (ipykernel)",
      "language": "python",
      "name": "python3"
    },
    "language_info": {
      "codemirror_mode": {
        "name": "ipython",
        "version": 3
      },
      "file_extension": ".py",
      "mimetype": "text/x-python",
      "name": "python",
      "nbconvert_exporter": "python",
      "pygments_lexer": "ipython3",
      "version": "3.11.5"
    }
  },
  "nbformat": 4,
  "nbformat_minor": 0
}